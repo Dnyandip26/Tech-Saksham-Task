{
 "cells": [
  {
   "cell_type": "code",
   "execution_count": null,
   "metadata": {},
   "outputs": [],
   "source": [
    "T20 Wolrdcup 2024 data Analysis"
   ]
  },
  {
   "cell_type": "code",
   "execution_count": null,
   "metadata": {},
   "outputs": [],
   "source": [
    "import pandas as pd"
   ]
  },
  {
   "cell_type": "code",
   "execution_count": null,
   "metadata": {},
   "outputs": [],
   "source": [
    "file_path = \"/content/t20 worldcup clean data.csv\"  # Path to your dataset\n",
    "df = pd.read_csv(file_path)  # Read the CSV file into a Pandas DataFrame\n"
   ]
  },
  {
   "cell_type": "code",
   "execution_count": null,
   "metadata": {},
   "outputs": [],
   "source": [
    "\n",
    "win_distribution = df['Winner'].value_counts()  # Count the occurrences of each team in the 'Winner' column\n"
   ]
  },
  {
   "cell_type": "code",
   "execution_count": null,
   "metadata": {},
   "outputs": [],
   "source": [
    "print(win_distribution)  # Print the result\n"
   ]
  },
  {
   "cell_type": "code",
   "execution_count": null,
   "metadata": {},
   "outputs": [],
   "source": [
    "#Win Distribution (Bar Chart)\n",
    "import pandas as pd\n",
    "import matplotlib.pyplot as plt\n",
    "\n",
    "# Load dataset\n",
    "df = pd.read_csv(\"t20 worldcup clean data.csv\")\n",
    "\n",
    "# Compute win distribution\n",
    "win_distribution = df['Winner'].value_counts()\n",
    "\n",
    "# Plot bar chart\n",
    "plt.figure(figsize=(10, 5))\n",
    "win_distribution.plot(kind='bar', color='skyblue', edgecolor='black')\n",
    "plt.title(\"Win Distribution\", fontsize=14)\n",
    "plt.xlabel(\"Teams\", fontsize=12)\n",
    "plt.ylabel(\"Number of Wins\", fontsize=12)\n",
    "plt.xticks(rotation=45)\n",
    "plt.show()\n"
   ]
  },
  {
   "cell_type": "code",
   "execution_count": null,
   "metadata": {},
   "outputs": [],
   "source": [
    "# Match Results by Margin Type (Pie Chart)\n",
    "# Breaks down wins by runs vs. wickets.\n",
    "df['Margin Type'] = df['Margin'].apply(lambda x: 'Wickets' if 'wicket' in x.lower() else 'Runs')\n",
    "margin_counts = df['Margin Type'].value_counts()\n",
    "\n",
    "# Plot pie chart\n",
    "plt.figure(figsize=(7, 7))\n",
    "plt.pie(margin_counts, labels=margin_counts.index, autopct='%1.1f%%', colors=['lightcoral', 'lightblue'])\n",
    "plt.title(\"Win Distribution by Margin Type\", fontsize=14)\n",
    "plt.show()\n"
   ]
  },
  {
   "cell_type": "code",
   "execution_count": null,
   "metadata": {},
   "outputs": [],
   "source": [
    "#Top Venues (Bar Chart)\n",
    "venue_counts = df['Ground'].value_counts().head(10)  # Top 10 venues\n",
    "\n",
    "# Plot bar chart\n",
    "plt.figure(figsize=(10, 5))\n",
    "venue_counts.plot(kind='bar', color='lightgreen', edgecolor='black')\n",
    "plt.title(\"Top 10 Venues with Most Matches\", fontsize=14)\n",
    "plt.xlabel(\"Venue\", fontsize=12)\n",
    "plt.ylabel(\"Number of Matches\", fontsize=12)\n",
    "plt.xticks(rotation=45)\n",
    "plt.show()\n"
   ]
  },
  {
   "cell_type": "code",
   "execution_count": null,
   "metadata": {},
   "outputs": [],
   "source": [
    "#Matches Over Time (Line Chart)\n",
    "df['Match Date'] = pd.to_datetime(df['Match Date'])  # Convert to datetime\n",
    "matches_per_date = df['Match Date'].value_counts().sort_index()\n",
    "\n",
    "# Plot line chart\n",
    "plt.figure(figsize=(10, 5))\n",
    "matches_per_date.plot(kind='line', marker='o', color='purple')\n",
    "plt.title(\"Matches Played Over Time\", fontsize=14)\n",
    "plt.xlabel(\"Date\", fontsize=12)\n",
    "plt.ylabel(\"Number of Matches\", fontsize=12)\n",
    "plt.xticks(rotation=45)\n",
    "plt.show()\n"
   ]
  },
  {
   "cell_type": "code",
   "execution_count": null,
   "metadata": {},
   "outputs": [],
   "source": [
    "#Most Common Matchups (Bar Chart)\n",
    "df['Matchup'] = df.apply(lambda row: f\"{row['Team 1']} vs {row['Team 2']}\", axis=1)\n",
    "matchup_counts = df['Matchup'].value_counts().head(10)  # Top 10 matchups\n",
    "\n",
    "# Plot bar chart\n",
    "plt.figure(figsize=(10, 5))\n",
    "matchup_counts.plot(kind='bar', color='purple', edgecolor='black')\n",
    "plt.title(\"Most Common Matchups\", fontsize=14)\n",
    "plt.xlabel(\"Matchup\", fontsize=12)\n",
    "plt.ylabel(\"Number of Matches\", fontsize=12)\n",
    "plt.xticks(rotation=45)\n",
    "plt.show()\n"
   ]
  },
  {
   "cell_type": "code",
   "execution_count": null,
   "metadata": {},
   "outputs": [],
   "source": [
    "#Winning Margins by Runs (Histogram)\n",
    "import numpy as np\n",
    "\n",
    "df['Run Margin'] = df['Margin'].apply(lambda x: int(x.split()[0]) if 'run' in x.lower() else np.nan)\n",
    "\n",
    "# Plot histogram\n",
    "plt.figure(figsize=(10, 5))\n",
    "df['Run Margin'].dropna().plot(kind='hist', bins=10, color='orange', edgecolor='black')\n",
    "plt.title(\"Winning Margins by Runs\", fontsize=14)\n",
    "plt.xlabel(\"Margin (Runs)\", fontsize=12)\n",
    "plt.ylabel(\"Frequency\", fontsize=12)\n",
    "plt.show()\n"
   ]
  },
  {
   "cell_type": "code",
   "execution_count": null,
   "metadata": {},
   "outputs": [],
   "source": [
    "#Winning Margins by Wickets (Histogram)\n",
    "df['Wicket Margin'] = df['Margin'].apply(lambda x: int(x.split()[0]) if 'wicket' in x.lower() else np.nan)\n",
    "\n",
    "# Plot histogram\n",
    "plt.figure(figsize=(10, 5))\n",
    "df['Wicket Margin'].dropna().plot(kind='hist', bins=10, color='blue', edgecolor='black')\n",
    "plt.title(\"Winning Margins by Wickets\", fontsize=14)\n",
    "plt.xlabel(\"Margin (Wickets)\", fontsize=12)\n",
    "plt.ylabel(\"Frequency\", fontsize=12)\n",
    "plt.show()\n"
   ]
  },
  {
   "cell_type": "code",
   "execution_count": null,
   "metadata": {},
   "outputs": [],
   "source": [
    "#Tied & No Result Matches (Bar Chart)\n",
    "tied_no_result = df[df['Winner'].isin(['tied', 'no result'])]['Winner'].value_counts()\n",
    "\n",
    "# Plot bar chart\n",
    "plt.figure(figsize=(7, 5))\n",
    "tied_no_result.plot(kind='bar', color=['red', 'gray'], edgecolor='black')\n",
    "plt.title(\"Tied & No Result Matches\", fontsize=14)\n",
    "plt.xlabel(\"Match Outcome\", fontsize=12)\n",
    "plt.ylabel(\"Count\", fontsize=12)\n",
    "plt.show()\n"
   ]
  }
 ],
 "metadata": {
  "kernelspec": {
   "display_name": "cvenv",
   "language": "python",
   "name": "python3"
  },
  "language_info": {
   "name": "python",
   "version": "3.8.20"
  }
 },
 "nbformat": 4,
 "nbformat_minor": 2
}
